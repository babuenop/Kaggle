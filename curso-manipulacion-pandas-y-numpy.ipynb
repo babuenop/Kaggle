{
 "cells": [
  {
   "cell_type": "markdown",
   "id": "daa475e8",
   "metadata": {
    "papermill": {
     "duration": 0.009992,
     "end_time": "2022-09-07T11:22:33.566894",
     "exception": false,
     "start_time": "2022-09-07T11:22:33.556902",
     "status": "completed"
    },
    "tags": []
   },
   "source": [
    "## Curso de Manipulacion y Transformacion de Datos con Pandas y Numpy"
   ]
  },
  {
   "cell_type": "markdown",
   "id": "77073267",
   "metadata": {
    "papermill": {
     "duration": 0.004241,
     "end_time": "2022-09-07T11:22:33.576937",
     "exception": false,
     "start_time": "2022-09-07T11:22:33.572696",
     "status": "completed"
    },
    "tags": []
   },
   "source": [
    "## **Numpy Array**"
   ]
  },
  {
   "cell_type": "code",
   "execution_count": 1,
   "id": "ee9bb5cf",
   "metadata": {
    "_cell_guid": "b1076dfc-b9ad-4769-8c92-a6c4dae69d19",
    "_uuid": "8f2839f25d086af736a60e9eeb907d3b93b6e0e5",
    "execution": {
     "iopub.execute_input": "2022-09-07T11:22:33.589191Z",
     "iopub.status.busy": "2022-09-07T11:22:33.588423Z",
     "iopub.status.idle": "2022-09-07T11:22:33.601084Z",
     "shell.execute_reply": "2022-09-07T11:22:33.600084Z"
    },
    "papermill": {
     "duration": 0.022093,
     "end_time": "2022-09-07T11:22:33.603590",
     "exception": false,
     "start_time": "2022-09-07T11:22:33.581497",
     "status": "completed"
    },
    "tags": []
   },
   "outputs": [],
   "source": [
    "import numpy as np \n",
    "import pandas as pd "
   ]
  },
  {
   "cell_type": "markdown",
   "id": "deb8e013",
   "metadata": {
    "papermill": {
     "duration": 0.00497,
     "end_time": "2022-09-07T11:22:33.613072",
     "exception": false,
     "start_time": "2022-09-07T11:22:33.608102",
     "status": "completed"
    },
    "tags": []
   },
   "source": [
    "### **Array**\n",
    "* La estructura central de Numpy \n",
    "* Representa datos de manera estructurada\n",
    "* Indexado\n",
    "* Acceso a uno o muchos elementos"
   ]
  },
  {
   "cell_type": "code",
   "execution_count": null,
   "id": "ec42be58",
   "metadata": {
    "papermill": {
     "duration": 0.004215,
     "end_time": "2022-09-07T11:22:33.621818",
     "exception": false,
     "start_time": "2022-09-07T11:22:33.617603",
     "status": "completed"
    },
    "tags": []
   },
   "outputs": [],
   "source": []
  },
  {
   "cell_type": "code",
   "execution_count": 2,
   "id": "639dbc17",
   "metadata": {
    "execution": {
     "iopub.execute_input": "2022-09-07T11:22:33.634308Z",
     "iopub.status.busy": "2022-09-07T11:22:33.632671Z",
     "iopub.status.idle": "2022-09-07T11:22:33.644210Z",
     "shell.execute_reply": "2022-09-07T11:22:33.643069Z"
    },
    "papermill": {
     "duration": 0.021073,
     "end_time": "2022-09-07T11:22:33.647471",
     "exception": false,
     "start_time": "2022-09-07T11:22:33.626398",
     "status": "completed"
    },
    "tags": []
   },
   "outputs": [
    {
     "data": {
      "text/plain": [
       "[0, 1, 2, 3, 4, 5, 6, 7, 8, 9]"
      ]
     },
     "execution_count": 2,
     "metadata": {},
     "output_type": "execute_result"
    }
   ],
   "source": [
    "lista = [0,1,2,3,4,5,6,7,8,9]\n",
    "lista"
   ]
  },
  {
   "cell_type": "code",
   "execution_count": 3,
   "id": "49d2c79a",
   "metadata": {
    "execution": {
     "iopub.execute_input": "2022-09-07T11:22:33.660256Z",
     "iopub.status.busy": "2022-09-07T11:22:33.659103Z",
     "iopub.status.idle": "2022-09-07T11:22:33.667450Z",
     "shell.execute_reply": "2022-09-07T11:22:33.665957Z"
    },
    "papermill": {
     "duration": 0.017781,
     "end_time": "2022-09-07T11:22:33.670476",
     "exception": false,
     "start_time": "2022-09-07T11:22:33.652695",
     "status": "completed"
    },
    "tags": []
   },
   "outputs": [
    {
     "data": {
      "text/plain": [
       "numpy.ndarray"
      ]
     },
     "execution_count": 3,
     "metadata": {},
     "output_type": "execute_result"
    }
   ],
   "source": [
    "arr = np.array(lista)\n",
    "type(arr)"
   ]
  },
  {
   "cell_type": "code",
   "execution_count": 4,
   "id": "7535ce15",
   "metadata": {
    "execution": {
     "iopub.execute_input": "2022-09-07T11:22:33.682222Z",
     "iopub.status.busy": "2022-09-07T11:22:33.681758Z",
     "iopub.status.idle": "2022-09-07T11:22:33.693032Z",
     "shell.execute_reply": "2022-09-07T11:22:33.691946Z"
    },
    "papermill": {
     "duration": 0.020094,
     "end_time": "2022-09-07T11:22:33.695718",
     "exception": false,
     "start_time": "2022-09-07T11:22:33.675624",
     "status": "completed"
    },
    "tags": []
   },
   "outputs": [
    {
     "data": {
      "text/plain": [
       "array([[1, 2, 3],\n",
       "       [4, 5, 6],\n",
       "       [7, 8, 9]])"
      ]
     },
     "execution_count": 4,
     "metadata": {},
     "output_type": "execute_result"
    }
   ],
   "source": [
    "matriz = ([1,2,3],[4,5,6],[7,8,9])\n",
    "matriz = np.array(matriz)\n",
    "matriz"
   ]
  },
  {
   "cell_type": "code",
   "execution_count": 5,
   "id": "38b538f0",
   "metadata": {
    "execution": {
     "iopub.execute_input": "2022-09-07T11:22:33.707558Z",
     "iopub.status.busy": "2022-09-07T11:22:33.707096Z",
     "iopub.status.idle": "2022-09-07T11:22:33.715861Z",
     "shell.execute_reply": "2022-09-07T11:22:33.714524Z"
    },
    "papermill": {
     "duration": 0.018427,
     "end_time": "2022-09-07T11:22:33.719061",
     "exception": false,
     "start_time": "2022-09-07T11:22:33.700634",
     "status": "completed"
    },
    "tags": []
   },
   "outputs": [
    {
     "data": {
      "text/plain": [
       "3"
      ]
     },
     "execution_count": 5,
     "metadata": {},
     "output_type": "execute_result"
    }
   ],
   "source": [
    "matriz [0,2]"
   ]
  },
  {
   "cell_type": "code",
   "execution_count": 6,
   "id": "f9126da4",
   "metadata": {
    "execution": {
     "iopub.execute_input": "2022-09-07T11:22:33.733707Z",
     "iopub.status.busy": "2022-09-07T11:22:33.733267Z",
     "iopub.status.idle": "2022-09-07T11:22:33.741406Z",
     "shell.execute_reply": "2022-09-07T11:22:33.739803Z"
    },
    "papermill": {
     "duration": 0.019241,
     "end_time": "2022-09-07T11:22:33.744000",
     "exception": false,
     "start_time": "2022-09-07T11:22:33.724759",
     "status": "completed"
    },
    "tags": []
   },
   "outputs": [
    {
     "data": {
      "text/plain": [
       "array([0, 1, 2, 3, 4, 5, 6, 7, 8, 9])"
      ]
     },
     "execution_count": 6,
     "metadata": {},
     "output_type": "execute_result"
    }
   ],
   "source": [
    "arr"
   ]
  },
  {
   "cell_type": "markdown",
   "id": "e39fac36",
   "metadata": {
    "papermill": {
     "duration": 0.004869,
     "end_time": "2022-09-07T11:22:33.754257",
     "exception": false,
     "start_time": "2022-09-07T11:22:33.749388",
     "status": "completed"
    },
    "tags": []
   },
   "source": [
    "### **Slicing**"
   ]
  },
  {
   "cell_type": "code",
   "execution_count": 7,
   "id": "2bd13bf4",
   "metadata": {
    "execution": {
     "iopub.execute_input": "2022-09-07T11:22:33.766672Z",
     "iopub.status.busy": "2022-09-07T11:22:33.766249Z",
     "iopub.status.idle": "2022-09-07T11:22:33.773359Z",
     "shell.execute_reply": "2022-09-07T11:22:33.772309Z"
    },
    "papermill": {
     "duration": 0.017312,
     "end_time": "2022-09-07T11:22:33.776786",
     "exception": false,
     "start_time": "2022-09-07T11:22:33.759474",
     "status": "completed"
    },
    "tags": []
   },
   "outputs": [
    {
     "data": {
      "text/plain": [
       "array([False,  True,  True,  True,  True,  True,  True,  True,  True,\n",
       "        True])"
      ]
     },
     "execution_count": 7,
     "metadata": {},
     "output_type": "execute_result"
    }
   ],
   "source": [
    "arr\n",
    "arr = arr.astype(np.bool_)\n",
    "arr"
   ]
  },
  {
   "cell_type": "code",
   "execution_count": 8,
   "id": "e06c9dd6",
   "metadata": {
    "execution": {
     "iopub.execute_input": "2022-09-07T11:22:33.790418Z",
     "iopub.status.busy": "2022-09-07T11:22:33.789977Z",
     "iopub.status.idle": "2022-09-07T11:22:33.797406Z",
     "shell.execute_reply": "2022-09-07T11:22:33.796004Z"
    },
    "papermill": {
     "duration": 0.01821,
     "end_time": "2022-09-07T11:22:33.800283",
     "exception": false,
     "start_time": "2022-09-07T11:22:33.782073",
     "status": "completed"
    },
    "tags": []
   },
   "outputs": [
    {
     "data": {
      "text/plain": [
       "array([b'0', b'1', b'2', b'3', b'4', b'5', b'6', b'7', b'8', b'9'],\n",
       "      dtype='|S21')"
      ]
     },
     "execution_count": 8,
     "metadata": {},
     "output_type": "execute_result"
    }
   ],
   "source": [
    "arr = np.array(lista)\n",
    "arr = arr.astype(np.string_)\n",
    "arr"
   ]
  },
  {
   "cell_type": "markdown",
   "id": "e1aeea96",
   "metadata": {
    "papermill": {
     "duration": 0.004887,
     "end_time": "2022-09-07T11:22:33.810599",
     "exception": false,
     "start_time": "2022-09-07T11:22:33.805712",
     "status": "completed"
    },
    "tags": []
   },
   "source": [
    "### **Dimensiones**"
   ]
  },
  {
   "cell_type": "code",
   "execution_count": 9,
   "id": "e54d39a2",
   "metadata": {
    "execution": {
     "iopub.execute_input": "2022-09-07T11:22:33.823075Z",
     "iopub.status.busy": "2022-09-07T11:22:33.822654Z",
     "iopub.status.idle": "2022-09-07T11:22:33.829927Z",
     "shell.execute_reply": "2022-09-07T11:22:33.828841Z"
    },
    "papermill": {
     "duration": 0.017979,
     "end_time": "2022-09-07T11:22:33.833835",
     "exception": false,
     "start_time": "2022-09-07T11:22:33.815856",
     "status": "completed"
    },
    "tags": []
   },
   "outputs": [
    {
     "name": "stdout",
     "output_type": "stream",
     "text": [
      "42\n"
     ]
    },
    {
     "data": {
      "text/plain": [
       "0"
      ]
     },
     "execution_count": 9,
     "metadata": {},
     "output_type": "execute_result"
    }
   ],
   "source": [
    "'Definiendo un scalar'\n",
    "scalar = np.array(42)\n",
    "print (scalar)\n",
    "scalar.ndim"
   ]
  },
  {
   "cell_type": "code",
   "execution_count": 10,
   "id": "c2f9266f",
   "metadata": {
    "execution": {
     "iopub.execute_input": "2022-09-07T11:22:33.847338Z",
     "iopub.status.busy": "2022-09-07T11:22:33.846902Z",
     "iopub.status.idle": "2022-09-07T11:22:33.855204Z",
     "shell.execute_reply": "2022-09-07T11:22:33.854242Z"
    },
    "papermill": {
     "duration": 0.017118,
     "end_time": "2022-09-07T11:22:33.857062",
     "exception": false,
     "start_time": "2022-09-07T11:22:33.839944",
     "status": "completed"
    },
    "tags": []
   },
   "outputs": [
    {
     "name": "stdout",
     "output_type": "stream",
     "text": [
      "[1 2 3]\n"
     ]
    },
    {
     "data": {
      "text/plain": [
       "1"
      ]
     },
     "execution_count": 10,
     "metadata": {},
     "output_type": "execute_result"
    }
   ],
   "source": [
    "'Definiendo un vector'\n",
    "vector = np.array([1,2,3])\n",
    "print(vector)\n",
    "vector.ndim"
   ]
  },
  {
   "cell_type": "code",
   "execution_count": 11,
   "id": "f8a7ba70",
   "metadata": {
    "execution": {
     "iopub.execute_input": "2022-09-07T11:22:33.870396Z",
     "iopub.status.busy": "2022-09-07T11:22:33.869995Z",
     "iopub.status.idle": "2022-09-07T11:22:33.878525Z",
     "shell.execute_reply": "2022-09-07T11:22:33.877496Z"
    },
    "papermill": {
     "duration": 0.019105,
     "end_time": "2022-09-07T11:22:33.881724",
     "exception": false,
     "start_time": "2022-09-07T11:22:33.862619",
     "status": "completed"
    },
    "tags": []
   },
   "outputs": [
    {
     "name": "stdout",
     "output_type": "stream",
     "text": [
      "[[1 2 3]\n",
      " [4 5 6]\n",
      " [7 8 9]]\n"
     ]
    },
    {
     "data": {
      "text/plain": [
       "2"
      ]
     },
     "execution_count": 11,
     "metadata": {},
     "output_type": "execute_result"
    }
   ],
   "source": [
    "'Definiendo una matriz'\n",
    "matriz = np.array([[1,2,3],[4,5,6],[7,8,9]])\n",
    "print(matriz)\n",
    "matriz.ndim"
   ]
  }
 ],
 "metadata": {
  "kernelspec": {
   "display_name": "Python 3",
   "language": "python",
   "name": "python3"
  },
  "language_info": {
   "codemirror_mode": {
    "name": "ipython",
    "version": 3
   },
   "file_extension": ".py",
   "mimetype": "text/x-python",
   "name": "python",
   "nbconvert_exporter": "python",
   "pygments_lexer": "ipython3",
   "version": "3.7.12"
  },
  "papermill": {
   "default_parameters": {},
   "duration": 13.12003,
   "end_time": "2022-09-07T11:22:34.610033",
   "environment_variables": {},
   "exception": null,
   "input_path": "__notebook__.ipynb",
   "output_path": "__notebook__.ipynb",
   "parameters": {},
   "start_time": "2022-09-07T11:22:21.490003",
   "version": "2.3.4"
  }
 },
 "nbformat": 4,
 "nbformat_minor": 5
}
