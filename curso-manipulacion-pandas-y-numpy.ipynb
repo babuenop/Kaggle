{
 "cells": [
  {
   "cell_type": "markdown",
   "id": "3595c34a",
   "metadata": {
    "papermill": {
     "duration": 0.016337,
     "end_time": "2022-09-13T11:07:59.793952",
     "exception": false,
     "start_time": "2022-09-13T11:07:59.777615",
     "status": "completed"
    },
    "tags": []
   },
   "source": [
    "## Curso de Manipulacion y Transformacion de Datos con Pandas y Numpy"
   ]
  },
  {
   "cell_type": "markdown",
   "id": "26f91bec",
   "metadata": {
    "papermill": {
     "duration": 0.013974,
     "end_time": "2022-09-13T11:07:59.822624",
     "exception": false,
     "start_time": "2022-09-13T11:07:59.808650",
     "status": "completed"
    },
    "tags": []
   },
   "source": [
    "## **Numpy Array**"
   ]
  },
  {
   "cell_type": "code",
   "execution_count": 1,
   "id": "1b32afe3",
   "metadata": {
    "_cell_guid": "b1076dfc-b9ad-4769-8c92-a6c4dae69d19",
    "_uuid": "8f2839f25d086af736a60e9eeb907d3b93b6e0e5",
    "execution": {
     "iopub.execute_input": "2022-09-13T11:07:59.853994Z",
     "iopub.status.busy": "2022-09-13T11:07:59.853176Z",
     "iopub.status.idle": "2022-09-13T11:07:59.863782Z",
     "shell.execute_reply": "2022-09-13T11:07:59.862900Z"
    },
    "papermill": {
     "duration": 0.029242,
     "end_time": "2022-09-13T11:07:59.866211",
     "exception": false,
     "start_time": "2022-09-13T11:07:59.836969",
     "status": "completed"
    },
    "tags": []
   },
   "outputs": [],
   "source": [
    "import numpy as np \n",
    "import pandas as pd "
   ]
  },
  {
   "cell_type": "markdown",
   "id": "1368cf3b",
   "metadata": {
    "papermill": {
     "duration": 0.014221,
     "end_time": "2022-09-13T11:07:59.894985",
     "exception": false,
     "start_time": "2022-09-13T11:07:59.880764",
     "status": "completed"
    },
    "tags": []
   },
   "source": [
    "### **Array**\n",
    "* La estructura central de Numpy \n",
    "* Representa datos de manera estructurada\n",
    "* Indexado\n",
    "* Acceso a uno o muchos elementos"
   ]
  },
  {
   "cell_type": "code",
   "execution_count": 2,
   "id": "adcfc7ec",
   "metadata": {
    "execution": {
     "iopub.execute_input": "2022-09-13T11:07:59.926377Z",
     "iopub.status.busy": "2022-09-13T11:07:59.925926Z",
     "iopub.status.idle": "2022-09-13T11:07:59.934666Z",
     "shell.execute_reply": "2022-09-13T11:07:59.933647Z"
    },
    "papermill": {
     "duration": 0.027907,
     "end_time": "2022-09-13T11:07:59.938145",
     "exception": false,
     "start_time": "2022-09-13T11:07:59.910238",
     "status": "completed"
    },
    "tags": []
   },
   "outputs": [
    {
     "data": {
      "text/plain": [
       "[0, 1, 2, 3, 4, 5, 6, 7, 8, 9]"
      ]
     },
     "execution_count": 2,
     "metadata": {},
     "output_type": "execute_result"
    }
   ],
   "source": [
    "lista = [0,1,2,3,4,5,6,7,8,9]\n",
    "lista"
   ]
  },
  {
   "cell_type": "code",
   "execution_count": 3,
   "id": "f35bf052",
   "metadata": {
    "execution": {
     "iopub.execute_input": "2022-09-13T11:07:59.969479Z",
     "iopub.status.busy": "2022-09-13T11:07:59.968563Z",
     "iopub.status.idle": "2022-09-13T11:07:59.975236Z",
     "shell.execute_reply": "2022-09-13T11:07:59.974331Z"
    },
    "papermill": {
     "duration": 0.024772,
     "end_time": "2022-09-13T11:07:59.977536",
     "exception": false,
     "start_time": "2022-09-13T11:07:59.952764",
     "status": "completed"
    },
    "tags": []
   },
   "outputs": [
    {
     "data": {
      "text/plain": [
       "numpy.ndarray"
      ]
     },
     "execution_count": 3,
     "metadata": {},
     "output_type": "execute_result"
    }
   ],
   "source": [
    "arr = np.array(lista)\n",
    "type(arr)"
   ]
  },
  {
   "cell_type": "code",
   "execution_count": 4,
   "id": "5e831a34",
   "metadata": {
    "execution": {
     "iopub.execute_input": "2022-09-13T11:08:00.009751Z",
     "iopub.status.busy": "2022-09-13T11:08:00.008743Z",
     "iopub.status.idle": "2022-09-13T11:08:00.019812Z",
     "shell.execute_reply": "2022-09-13T11:08:00.018699Z"
    },
    "papermill": {
     "duration": 0.030268,
     "end_time": "2022-09-13T11:08:00.022443",
     "exception": false,
     "start_time": "2022-09-13T11:07:59.992175",
     "status": "completed"
    },
    "tags": []
   },
   "outputs": [
    {
     "data": {
      "text/plain": [
       "array([[1, 2, 3],\n",
       "       [4, 5, 6],\n",
       "       [7, 8, 9]])"
      ]
     },
     "execution_count": 4,
     "metadata": {},
     "output_type": "execute_result"
    }
   ],
   "source": [
    "matriz = ([1,2,3],[4,5,6],[7,8,9])\n",
    "matriz = np.array(matriz)\n",
    "matriz"
   ]
  },
  {
   "cell_type": "code",
   "execution_count": 5,
   "id": "5b5e3e96",
   "metadata": {
    "execution": {
     "iopub.execute_input": "2022-09-13T11:08:00.054621Z",
     "iopub.status.busy": "2022-09-13T11:08:00.053848Z",
     "iopub.status.idle": "2022-09-13T11:08:00.060818Z",
     "shell.execute_reply": "2022-09-13T11:08:00.059982Z"
    },
    "papermill": {
     "duration": 0.025277,
     "end_time": "2022-09-13T11:08:00.062943",
     "exception": false,
     "start_time": "2022-09-13T11:08:00.037666",
     "status": "completed"
    },
    "tags": []
   },
   "outputs": [
    {
     "data": {
      "text/plain": [
       "3"
      ]
     },
     "execution_count": 5,
     "metadata": {},
     "output_type": "execute_result"
    }
   ],
   "source": [
    "matriz [0,2]"
   ]
  },
  {
   "cell_type": "code",
   "execution_count": 6,
   "id": "d0680563",
   "metadata": {
    "execution": {
     "iopub.execute_input": "2022-09-13T11:08:00.095349Z",
     "iopub.status.busy": "2022-09-13T11:08:00.094845Z",
     "iopub.status.idle": "2022-09-13T11:08:00.101194Z",
     "shell.execute_reply": "2022-09-13T11:08:00.100410Z"
    },
    "papermill": {
     "duration": 0.024765,
     "end_time": "2022-09-13T11:08:00.103199",
     "exception": false,
     "start_time": "2022-09-13T11:08:00.078434",
     "status": "completed"
    },
    "tags": []
   },
   "outputs": [
    {
     "data": {
      "text/plain": [
       "array([0, 1, 2, 3, 4, 5, 6, 7, 8, 9])"
      ]
     },
     "execution_count": 6,
     "metadata": {},
     "output_type": "execute_result"
    }
   ],
   "source": [
    "arr"
   ]
  },
  {
   "cell_type": "markdown",
   "id": "d59a234a",
   "metadata": {
    "papermill": {
     "duration": 0.01453,
     "end_time": "2022-09-13T11:08:00.132608",
     "exception": false,
     "start_time": "2022-09-13T11:08:00.118078",
     "status": "completed"
    },
    "tags": []
   },
   "source": [
    "### **Slicing**"
   ]
  },
  {
   "cell_type": "code",
   "execution_count": 7,
   "id": "497ffd75",
   "metadata": {
    "execution": {
     "iopub.execute_input": "2022-09-13T11:08:00.164781Z",
     "iopub.status.busy": "2022-09-13T11:08:00.163889Z",
     "iopub.status.idle": "2022-09-13T11:08:00.170102Z",
     "shell.execute_reply": "2022-09-13T11:08:00.169266Z"
    },
    "papermill": {
     "duration": 0.024683,
     "end_time": "2022-09-13T11:08:00.172200",
     "exception": false,
     "start_time": "2022-09-13T11:08:00.147517",
     "status": "completed"
    },
    "tags": []
   },
   "outputs": [
    {
     "data": {
      "text/plain": [
       "array([False,  True,  True,  True,  True,  True,  True,  True,  True,\n",
       "        True])"
      ]
     },
     "execution_count": 7,
     "metadata": {},
     "output_type": "execute_result"
    }
   ],
   "source": [
    "arr\n",
    "arr = arr.astype(np.bool_)\n",
    "arr"
   ]
  },
  {
   "cell_type": "code",
   "execution_count": 8,
   "id": "b87b5617",
   "metadata": {
    "execution": {
     "iopub.execute_input": "2022-09-13T11:08:00.204315Z",
     "iopub.status.busy": "2022-09-13T11:08:00.203659Z",
     "iopub.status.idle": "2022-09-13T11:08:00.210186Z",
     "shell.execute_reply": "2022-09-13T11:08:00.209319Z"
    },
    "papermill": {
     "duration": 0.025092,
     "end_time": "2022-09-13T11:08:00.212333",
     "exception": false,
     "start_time": "2022-09-13T11:08:00.187241",
     "status": "completed"
    },
    "tags": []
   },
   "outputs": [
    {
     "data": {
      "text/plain": [
       "array([b'0', b'1', b'2', b'3', b'4', b'5', b'6', b'7', b'8', b'9'],\n",
       "      dtype='|S21')"
      ]
     },
     "execution_count": 8,
     "metadata": {},
     "output_type": "execute_result"
    }
   ],
   "source": [
    "arr = np.array(lista)\n",
    "arr = arr.astype(np.string_)\n",
    "arr"
   ]
  },
  {
   "cell_type": "markdown",
   "id": "3e613d83",
   "metadata": {
    "papermill": {
     "duration": 0.014748,
     "end_time": "2022-09-13T11:08:00.242582",
     "exception": false,
     "start_time": "2022-09-13T11:08:00.227834",
     "status": "completed"
    },
    "tags": []
   },
   "source": [
    "### **Dimensiones**"
   ]
  },
  {
   "cell_type": "code",
   "execution_count": 9,
   "id": "085a56f2",
   "metadata": {
    "execution": {
     "iopub.execute_input": "2022-09-13T11:08:00.275124Z",
     "iopub.status.busy": "2022-09-13T11:08:00.274461Z",
     "iopub.status.idle": "2022-09-13T11:08:00.281651Z",
     "shell.execute_reply": "2022-09-13T11:08:00.280477Z"
    },
    "papermill": {
     "duration": 0.026418,
     "end_time": "2022-09-13T11:08:00.284133",
     "exception": false,
     "start_time": "2022-09-13T11:08:00.257715",
     "status": "completed"
    },
    "tags": []
   },
   "outputs": [
    {
     "name": "stdout",
     "output_type": "stream",
     "text": [
      "42\n"
     ]
    },
    {
     "data": {
      "text/plain": [
       "0"
      ]
     },
     "execution_count": 9,
     "metadata": {},
     "output_type": "execute_result"
    }
   ],
   "source": [
    "# Definiendo un scalar\n",
    "scalar = np.array(42)\n",
    "print (scalar)\n",
    "scalar.ndim"
   ]
  },
  {
   "cell_type": "code",
   "execution_count": 10,
   "id": "d7326f79",
   "metadata": {
    "execution": {
     "iopub.execute_input": "2022-09-13T11:08:00.317883Z",
     "iopub.status.busy": "2022-09-13T11:08:00.316987Z",
     "iopub.status.idle": "2022-09-13T11:08:00.325380Z",
     "shell.execute_reply": "2022-09-13T11:08:00.324475Z"
    },
    "papermill": {
     "duration": 0.027592,
     "end_time": "2022-09-13T11:08:00.327407",
     "exception": false,
     "start_time": "2022-09-13T11:08:00.299815",
     "status": "completed"
    },
    "tags": []
   },
   "outputs": [
    {
     "name": "stdout",
     "output_type": "stream",
     "text": [
      "[1 2 3]\n"
     ]
    },
    {
     "data": {
      "text/plain": [
       "1"
      ]
     },
     "execution_count": 10,
     "metadata": {},
     "output_type": "execute_result"
    }
   ],
   "source": [
    "# Definiendo un vector\n",
    "vector = np.array([1,2,3])\n",
    "print(vector)\n",
    "vector.ndim"
   ]
  },
  {
   "cell_type": "code",
   "execution_count": 11,
   "id": "0124a9f0",
   "metadata": {
    "execution": {
     "iopub.execute_input": "2022-09-13T11:08:00.360858Z",
     "iopub.status.busy": "2022-09-13T11:08:00.359984Z",
     "iopub.status.idle": "2022-09-13T11:08:00.368639Z",
     "shell.execute_reply": "2022-09-13T11:08:00.367526Z"
    },
    "papermill": {
     "duration": 0.02794,
     "end_time": "2022-09-13T11:08:00.370822",
     "exception": false,
     "start_time": "2022-09-13T11:08:00.342882",
     "status": "completed"
    },
    "tags": []
   },
   "outputs": [
    {
     "name": "stdout",
     "output_type": "stream",
     "text": [
      "[[1 2 3]\n",
      " [4 5 6]\n",
      " [7 8 9]]\n"
     ]
    },
    {
     "data": {
      "text/plain": [
       "2"
      ]
     },
     "execution_count": 11,
     "metadata": {},
     "output_type": "execute_result"
    }
   ],
   "source": [
    "# Definiendo una matriz\n",
    "matriz = np.array([[1,2,3],[4,5,6],[7,8,9]])\n",
    "print(matriz)\n",
    "matriz.ndim"
   ]
  },
  {
   "cell_type": "markdown",
   "id": "c4ef3059",
   "metadata": {
    "papermill": {
     "duration": 0.015321,
     "end_time": "2022-09-13T11:08:00.402279",
     "exception": false,
     "start_time": "2022-09-13T11:08:00.386958",
     "status": "completed"
    },
    "tags": []
   },
   "source": [
    "### **Creando Arrays**"
   ]
  },
  {
   "cell_type": "code",
   "execution_count": 12,
   "id": "d0c16317",
   "metadata": {
    "execution": {
     "iopub.execute_input": "2022-09-13T11:08:00.435752Z",
     "iopub.status.busy": "2022-09-13T11:08:00.435050Z",
     "iopub.status.idle": "2022-09-13T11:08:00.441969Z",
     "shell.execute_reply": "2022-09-13T11:08:00.440733Z"
    },
    "papermill": {
     "duration": 0.026654,
     "end_time": "2022-09-13T11:08:00.444500",
     "exception": false,
     "start_time": "2022-09-13T11:08:00.417846",
     "status": "completed"
    },
    "tags": []
   },
   "outputs": [
    {
     "data": {
      "text/plain": [
       "array([ 0,  1,  2,  3,  4,  5,  6,  7,  8,  9, 10, 11, 12, 13, 14, 15, 16,\n",
       "       17, 18, 19])"
      ]
     },
     "execution_count": 12,
     "metadata": {},
     "output_type": "execute_result"
    }
   ],
   "source": [
    "np.arange(0,20,1)"
   ]
  },
  {
   "cell_type": "code",
   "execution_count": 13,
   "id": "b0232931",
   "metadata": {
    "execution": {
     "iopub.execute_input": "2022-09-13T11:08:00.478741Z",
     "iopub.status.busy": "2022-09-13T11:08:00.477996Z",
     "iopub.status.idle": "2022-09-13T11:08:00.484978Z",
     "shell.execute_reply": "2022-09-13T11:08:00.484217Z"
    },
    "papermill": {
     "duration": 0.026173,
     "end_time": "2022-09-13T11:08:00.487060",
     "exception": false,
     "start_time": "2022-09-13T11:08:00.460887",
     "status": "completed"
    },
    "tags": []
   },
   "outputs": [
    {
     "data": {
      "text/plain": [
       "array([0., 0., 0.])"
      ]
     },
     "execution_count": 13,
     "metadata": {},
     "output_type": "execute_result"
    }
   ],
   "source": [
    "np.zeros(3)"
   ]
  },
  {
   "cell_type": "code",
   "execution_count": 14,
   "id": "ad5127c3",
   "metadata": {
    "execution": {
     "iopub.execute_input": "2022-09-13T11:08:00.521361Z",
     "iopub.status.busy": "2022-09-13T11:08:00.520723Z",
     "iopub.status.idle": "2022-09-13T11:08:00.529354Z",
     "shell.execute_reply": "2022-09-13T11:08:00.528285Z"
    },
    "papermill": {
     "duration": 0.028736,
     "end_time": "2022-09-13T11:08:00.531558",
     "exception": false,
     "start_time": "2022-09-13T11:08:00.502822",
     "status": "completed"
    },
    "tags": []
   },
   "outputs": [
    {
     "data": {
      "text/plain": [
       "array([[0., 0., 0., 0., 0., 0., 0., 0., 0., 0.],\n",
       "       [0., 0., 0., 0., 0., 0., 0., 0., 0., 0.],\n",
       "       [0., 0., 0., 0., 0., 0., 0., 0., 0., 0.],\n",
       "       [0., 0., 0., 0., 0., 0., 0., 0., 0., 0.],\n",
       "       [0., 0., 0., 0., 0., 0., 0., 0., 0., 0.],\n",
       "       [0., 0., 0., 0., 0., 0., 0., 0., 0., 0.],\n",
       "       [0., 0., 0., 0., 0., 0., 0., 0., 0., 0.],\n",
       "       [0., 0., 0., 0., 0., 0., 0., 0., 0., 0.],\n",
       "       [0., 0., 0., 0., 0., 0., 0., 0., 0., 0.],\n",
       "       [0., 0., 0., 0., 0., 0., 0., 0., 0., 0.]])"
      ]
     },
     "execution_count": 14,
     "metadata": {},
     "output_type": "execute_result"
    }
   ],
   "source": [
    "# Esto es util para crear array de iteracion o de imagenes con tamaños definidos\n",
    "np.zeros((10,10))\n"
   ]
  },
  {
   "cell_type": "code",
   "execution_count": 15,
   "id": "e8884116",
   "metadata": {
    "execution": {
     "iopub.execute_input": "2022-09-13T11:08:00.564927Z",
     "iopub.status.busy": "2022-09-13T11:08:00.564473Z",
     "iopub.status.idle": "2022-09-13T11:08:00.571431Z",
     "shell.execute_reply": "2022-09-13T11:08:00.570408Z"
    },
    "papermill": {
     "duration": 0.026365,
     "end_time": "2022-09-13T11:08:00.573695",
     "exception": false,
     "start_time": "2022-09-13T11:08:00.547330",
     "status": "completed"
    },
    "tags": []
   },
   "outputs": [
    {
     "data": {
      "text/plain": [
       "array([[1., 1., 1., 1., 1.],\n",
       "       [1., 1., 1., 1., 1.],\n",
       "       [1., 1., 1., 1., 1.],\n",
       "       [1., 1., 1., 1., 1.],\n",
       "       [1., 1., 1., 1., 1.]])"
      ]
     },
     "execution_count": 15,
     "metadata": {},
     "output_type": "execute_result"
    }
   ],
   "source": [
    "np.ones((5,5))"
   ]
  },
  {
   "cell_type": "code",
   "execution_count": 16,
   "id": "efd46db7",
   "metadata": {
    "execution": {
     "iopub.execute_input": "2022-09-13T11:08:00.607610Z",
     "iopub.status.busy": "2022-09-13T11:08:00.606887Z",
     "iopub.status.idle": "2022-09-13T11:08:00.615072Z",
     "shell.execute_reply": "2022-09-13T11:08:00.613828Z"
    },
    "papermill": {
     "duration": 0.027726,
     "end_time": "2022-09-13T11:08:00.617354",
     "exception": false,
     "start_time": "2022-09-13T11:08:00.589628",
     "status": "completed"
    },
    "tags": []
   },
   "outputs": [
    {
     "data": {
      "text/plain": [
       "array([ 0.        ,  0.52631579,  1.05263158,  1.57894737,  2.10526316,\n",
       "        2.63157895,  3.15789474,  3.68421053,  4.21052632,  4.73684211,\n",
       "        5.26315789,  5.78947368,  6.31578947,  6.84210526,  7.36842105,\n",
       "        7.89473684,  8.42105263,  8.94736842,  9.47368421, 10.        ])"
      ]
     },
     "execution_count": 16,
     "metadata": {},
     "output_type": "execute_result"
    }
   ],
   "source": [
    "# Linspace Hace una distribucion de los datos con un rango definido\n",
    "np.linspace(0,10,20)"
   ]
  },
  {
   "cell_type": "code",
   "execution_count": 17,
   "id": "4d7411a4",
   "metadata": {
    "execution": {
     "iopub.execute_input": "2022-09-13T11:08:00.652345Z",
     "iopub.status.busy": "2022-09-13T11:08:00.651249Z",
     "iopub.status.idle": "2022-09-13T11:08:00.658294Z",
     "shell.execute_reply": "2022-09-13T11:08:00.657461Z"
    },
    "papermill": {
     "duration": 0.026874,
     "end_time": "2022-09-13T11:08:00.660589",
     "exception": false,
     "start_time": "2022-09-13T11:08:00.633715",
     "status": "completed"
    },
    "tags": []
   },
   "outputs": [
    {
     "data": {
      "text/plain": [
       "array([[1., 0., 0., 0.],\n",
       "       [0., 1., 0., 0.],\n",
       "       [0., 0., 1., 0.],\n",
       "       [0., 0., 0., 1.]])"
      ]
     },
     "execution_count": 17,
     "metadata": {},
     "output_type": "execute_result"
    }
   ],
   "source": [
    "# Return a 2-D array with ones on the diagonal and zeros elsewhere.\n",
    "np.eye(4)"
   ]
  },
  {
   "cell_type": "code",
   "execution_count": 18,
   "id": "5b255ffe",
   "metadata": {
    "execution": {
     "iopub.execute_input": "2022-09-13T11:08:00.695898Z",
     "iopub.status.busy": "2022-09-13T11:08:00.694617Z",
     "iopub.status.idle": "2022-09-13T11:08:00.701646Z",
     "shell.execute_reply": "2022-09-13T11:08:00.700623Z"
    },
    "papermill": {
     "duration": 0.026995,
     "end_time": "2022-09-13T11:08:00.703915",
     "exception": false,
     "start_time": "2022-09-13T11:08:00.676920",
     "status": "completed"
    },
    "tags": []
   },
   "outputs": [
    {
     "data": {
      "text/plain": [
       "0.3699004205404106"
      ]
     },
     "execution_count": 18,
     "metadata": {},
     "output_type": "execute_result"
    }
   ],
   "source": [
    "np.random.rand()"
   ]
  },
  {
   "cell_type": "code",
   "execution_count": 19,
   "id": "eec2c80f",
   "metadata": {
    "execution": {
     "iopub.execute_input": "2022-09-13T11:08:00.740298Z",
     "iopub.status.busy": "2022-09-13T11:08:00.739405Z",
     "iopub.status.idle": "2022-09-13T11:08:00.747472Z",
     "shell.execute_reply": "2022-09-13T11:08:00.746443Z"
    },
    "papermill": {
     "duration": 0.028866,
     "end_time": "2022-09-13T11:08:00.749829",
     "exception": false,
     "start_time": "2022-09-13T11:08:00.720963",
     "status": "completed"
    },
    "tags": []
   },
   "outputs": [
    {
     "data": {
      "text/plain": [
       "array([0.33756079, 0.89325298, 0.12980026, 0.11322246])"
      ]
     },
     "execution_count": 19,
     "metadata": {},
     "output_type": "execute_result"
    }
   ],
   "source": [
    "np.random.rand(4)"
   ]
  },
  {
   "cell_type": "code",
   "execution_count": 20,
   "id": "dfc2a662",
   "metadata": {
    "execution": {
     "iopub.execute_input": "2022-09-13T11:08:00.785904Z",
     "iopub.status.busy": "2022-09-13T11:08:00.785080Z",
     "iopub.status.idle": "2022-09-13T11:08:00.792582Z",
     "shell.execute_reply": "2022-09-13T11:08:00.791471Z"
    },
    "papermill": {
     "duration": 0.028239,
     "end_time": "2022-09-13T11:08:00.794897",
     "exception": false,
     "start_time": "2022-09-13T11:08:00.766658",
     "status": "completed"
    },
    "tags": []
   },
   "outputs": [
    {
     "data": {
      "text/plain": [
       "array([[0.74382794, 0.16674896, 0.7668566 , 0.13511405],\n",
       "       [0.15177502, 0.95844455, 0.78203392, 0.16312841],\n",
       "       [0.48047882, 0.94191894, 0.66913119, 0.64426351],\n",
       "       [0.57263044, 0.17700214, 0.89432466, 0.49961109]])"
      ]
     },
     "execution_count": 20,
     "metadata": {},
     "output_type": "execute_result"
    }
   ],
   "source": [
    "np.random.rand(4,4)"
   ]
  },
  {
   "cell_type": "code",
   "execution_count": 21,
   "id": "5fe393d2",
   "metadata": {
    "execution": {
     "iopub.execute_input": "2022-09-13T11:08:00.830272Z",
     "iopub.status.busy": "2022-09-13T11:08:00.829563Z",
     "iopub.status.idle": "2022-09-13T11:08:00.836703Z",
     "shell.execute_reply": "2022-09-13T11:08:00.835769Z"
    },
    "papermill": {
     "duration": 0.027364,
     "end_time": "2022-09-13T11:08:00.838946",
     "exception": false,
     "start_time": "2022-09-13T11:08:00.811582",
     "status": "completed"
    },
    "tags": []
   },
   "outputs": [
    {
     "data": {
      "text/plain": [
       "8"
      ]
     },
     "execution_count": 21,
     "metadata": {},
     "output_type": "execute_result"
    }
   ],
   "source": [
    "np.random.randint(1,15)"
   ]
  },
  {
   "cell_type": "code",
   "execution_count": 22,
   "id": "e899be85",
   "metadata": {
    "execution": {
     "iopub.execute_input": "2022-09-13T11:08:00.877460Z",
     "iopub.status.busy": "2022-09-13T11:08:00.876664Z",
     "iopub.status.idle": "2022-09-13T11:08:00.884736Z",
     "shell.execute_reply": "2022-09-13T11:08:00.883661Z"
    },
    "papermill": {
     "duration": 0.031089,
     "end_time": "2022-09-13T11:08:00.887038",
     "exception": false,
     "start_time": "2022-09-13T11:08:00.855949",
     "status": "completed"
    },
    "tags": []
   },
   "outputs": [
    {
     "data": {
      "text/plain": [
       "array([[87, 59, 51,  7,  5,  8,  2, 77, 44, 63],\n",
       "       [49, 34, 17, 92, 28, 65, 45, 63, 28, 48],\n",
       "       [ 1, 55, 30, 62, 79, 28, 43, 72, 10, 45],\n",
       "       [24, 70, 83,  5,  3, 57, 93, 58, 10, 75],\n",
       "       [21, 91, 23, 18, 90, 64, 96,  1, 60, 26],\n",
       "       [39, 79, 57, 35, 83,  3, 29, 66, 30, 61],\n",
       "       [ 2, 31, 15,  8,  6, 88, 28, 76, 29, 70],\n",
       "       [90,  4, 86,  9, 98, 49, 84,  4, 58, 17],\n",
       "       [74, 44, 66,  9, 25,  1, 31, 50, 84, 94],\n",
       "       [16, 30,  5,  3, 95, 33, 62, 56, 23, 49]])"
      ]
     },
     "execution_count": 22,
     "metadata": {},
     "output_type": "execute_result"
    }
   ],
   "source": [
    "np.random.randint(1,100,(10,10))"
   ]
  },
  {
   "cell_type": "markdown",
   "id": "bf4fb460",
   "metadata": {
    "papermill": {
     "duration": 0.016731,
     "end_time": "2022-09-13T11:08:00.920462",
     "exception": false,
     "start_time": "2022-09-13T11:08:00.903731",
     "status": "completed"
    },
    "tags": []
   },
   "source": [
    "### **Shape y Reshape**\n",
    "Nos ayuda s identificar las caracteristicas de un arreglo y saber manipularlas"
   ]
  },
  {
   "cell_type": "code",
   "execution_count": 23,
   "id": "e741f82a",
   "metadata": {
    "execution": {
     "iopub.execute_input": "2022-09-13T11:08:00.956418Z",
     "iopub.status.busy": "2022-09-13T11:08:00.955650Z",
     "iopub.status.idle": "2022-09-13T11:08:00.963057Z",
     "shell.execute_reply": "2022-09-13T11:08:00.962140Z"
    },
    "papermill": {
     "duration": 0.027876,
     "end_time": "2022-09-13T11:08:00.965332",
     "exception": false,
     "start_time": "2022-09-13T11:08:00.937456",
     "status": "completed"
    },
    "tags": []
   },
   "outputs": [
    {
     "data": {
      "text/plain": [
       "(3, 2)"
      ]
     },
     "execution_count": 23,
     "metadata": {},
     "output_type": "execute_result"
    }
   ],
   "source": [
    "#Devuelve las dimensiones del arreglo\n",
    "arr = np.random.randint(1,10,(3,2))\n",
    "arr.shape \n"
   ]
  },
  {
   "cell_type": "code",
   "execution_count": 24,
   "id": "fea78ac6",
   "metadata": {
    "execution": {
     "iopub.execute_input": "2022-09-13T11:08:01.002706Z",
     "iopub.status.busy": "2022-09-13T11:08:01.001870Z",
     "iopub.status.idle": "2022-09-13T11:08:01.009445Z",
     "shell.execute_reply": "2022-09-13T11:08:01.008199Z"
    },
    "papermill": {
     "duration": 0.028775,
     "end_time": "2022-09-13T11:08:01.011796",
     "exception": false,
     "start_time": "2022-09-13T11:08:00.983021",
     "status": "completed"
    },
    "tags": []
   },
   "outputs": [
    {
     "data": {
      "text/plain": [
       "array([[9, 9],\n",
       "       [1, 7],\n",
       "       [8, 6]])"
      ]
     },
     "execution_count": 24,
     "metadata": {},
     "output_type": "execute_result"
    }
   ],
   "source": [
    "arr"
   ]
  },
  {
   "cell_type": "code",
   "execution_count": 25,
   "id": "599f97c2",
   "metadata": {
    "execution": {
     "iopub.execute_input": "2022-09-13T11:08:01.048638Z",
     "iopub.status.busy": "2022-09-13T11:08:01.047840Z",
     "iopub.status.idle": "2022-09-13T11:08:01.055065Z",
     "shell.execute_reply": "2022-09-13T11:08:01.054111Z"
    },
    "papermill": {
     "duration": 0.028183,
     "end_time": "2022-09-13T11:08:01.057421",
     "exception": false,
     "start_time": "2022-09-13T11:08:01.029238",
     "status": "completed"
    },
    "tags": []
   },
   "outputs": [
    {
     "data": {
      "text/plain": [
       "array([[9, 9, 1, 7, 8, 6]])"
      ]
     },
     "execution_count": 25,
     "metadata": {},
     "output_type": "execute_result"
    }
   ],
   "source": [
    "# Cambia la forma del arreglo \n",
    "# Reshape, Gives a new shape to an array without changing its data.\n",
    "arr.reshape(1,6)"
   ]
  },
  {
   "cell_type": "code",
   "execution_count": 26,
   "id": "7c6510a0",
   "metadata": {
    "execution": {
     "iopub.execute_input": "2022-09-13T11:08:01.094631Z",
     "iopub.status.busy": "2022-09-13T11:08:01.093820Z",
     "iopub.status.idle": "2022-09-13T11:08:01.101042Z",
     "shell.execute_reply": "2022-09-13T11:08:01.100123Z"
    },
    "papermill": {
     "duration": 0.028283,
     "end_time": "2022-09-13T11:08:01.103357",
     "exception": false,
     "start_time": "2022-09-13T11:08:01.075074",
     "status": "completed"
    },
    "tags": []
   },
   "outputs": [
    {
     "data": {
      "text/plain": [
       "array([[9, 9, 1],\n",
       "       [7, 8, 6]])"
      ]
     },
     "execution_count": 26,
     "metadata": {},
     "output_type": "execute_result"
    }
   ],
   "source": [
    "arr.reshape(2,3)"
   ]
  },
  {
   "cell_type": "code",
   "execution_count": 27,
   "id": "26c610c2",
   "metadata": {
    "execution": {
     "iopub.execute_input": "2022-09-13T11:08:01.140227Z",
     "iopub.status.busy": "2022-09-13T11:08:01.139399Z",
     "iopub.status.idle": "2022-09-13T11:08:01.146923Z",
     "shell.execute_reply": "2022-09-13T11:08:01.145864Z"
    },
    "papermill": {
     "duration": 0.028757,
     "end_time": "2022-09-13T11:08:01.149253",
     "exception": false,
     "start_time": "2022-09-13T11:08:01.120496",
     "status": "completed"
    },
    "tags": []
   },
   "outputs": [
    {
     "data": {
      "text/plain": [
       "array([[9, 9, 1, 7, 8, 6]])"
      ]
     },
     "execution_count": 27,
     "metadata": {},
     "output_type": "execute_result"
    }
   ],
   "source": [
    "np.reshape(arr,(1,6))"
   ]
  },
  {
   "cell_type": "markdown",
   "id": "47c6c6eb",
   "metadata": {
    "papermill": {
     "duration": 0.020062,
     "end_time": "2022-09-13T11:08:01.187540",
     "exception": false,
     "start_time": "2022-09-13T11:08:01.167478",
     "status": "completed"
    },
    "tags": []
   },
   "source": [
    "### **Funciones principales de Numpy**"
   ]
  },
  {
   "cell_type": "code",
   "execution_count": 28,
   "id": "ae857333",
   "metadata": {
    "execution": {
     "iopub.execute_input": "2022-09-13T11:08:01.225537Z",
     "iopub.status.busy": "2022-09-13T11:08:01.224789Z",
     "iopub.status.idle": "2022-09-13T11:08:01.232518Z",
     "shell.execute_reply": "2022-09-13T11:08:01.231528Z"
    },
    "papermill": {
     "duration": 0.029509,
     "end_time": "2022-09-13T11:08:01.234975",
     "exception": false,
     "start_time": "2022-09-13T11:08:01.205466",
     "status": "completed"
    },
    "tags": []
   },
   "outputs": [
    {
     "data": {
      "text/plain": [
       "array([11, 11,  7,  4, 10,  1,  8, 13,  8,  2])"
      ]
     },
     "execution_count": 28,
     "metadata": {},
     "output_type": "execute_result"
    }
   ],
   "source": [
    "arr = np.random.randint(1,20,10)\n",
    "arr"
   ]
  },
  {
   "cell_type": "code",
   "execution_count": 29,
   "id": "b3b894aa",
   "metadata": {
    "execution": {
     "iopub.execute_input": "2022-09-13T11:08:01.273443Z",
     "iopub.status.busy": "2022-09-13T11:08:01.272648Z",
     "iopub.status.idle": "2022-09-13T11:08:01.279964Z",
     "shell.execute_reply": "2022-09-13T11:08:01.278985Z"
    },
    "papermill": {
     "duration": 0.030169,
     "end_time": "2022-09-13T11:08:01.282744",
     "exception": false,
     "start_time": "2022-09-13T11:08:01.252575",
     "status": "completed"
    },
    "tags": []
   },
   "outputs": [
    {
     "data": {
      "text/plain": [
       "array([[11, 11,  7,  4, 10],\n",
       "       [ 1,  8, 13,  8,  2]])"
      ]
     },
     "execution_count": 29,
     "metadata": {},
     "output_type": "execute_result"
    }
   ],
   "source": [
    "matriz = arr.reshape(2,5)\n",
    "matriz"
   ]
  },
  {
   "cell_type": "code",
   "execution_count": 30,
   "id": "c42634be",
   "metadata": {
    "execution": {
     "iopub.execute_input": "2022-09-13T11:08:01.319812Z",
     "iopub.status.busy": "2022-09-13T11:08:01.319010Z",
     "iopub.status.idle": "2022-09-13T11:08:01.325876Z",
     "shell.execute_reply": "2022-09-13T11:08:01.324957Z"
    },
    "papermill": {
     "duration": 0.0279,
     "end_time": "2022-09-13T11:08:01.328118",
     "exception": false,
     "start_time": "2022-09-13T11:08:01.300218",
     "status": "completed"
    },
    "tags": []
   },
   "outputs": [
    {
     "data": {
      "text/plain": [
       "13"
      ]
     },
     "execution_count": 30,
     "metadata": {},
     "output_type": "execute_result"
    }
   ],
   "source": [
    "# Devuelve el maximo valor en la matriz\n",
    "matriz.max()"
   ]
  },
  {
   "cell_type": "code",
   "execution_count": 31,
   "id": "f27a6249",
   "metadata": {
    "execution": {
     "iopub.execute_input": "2022-09-13T11:08:01.365485Z",
     "iopub.status.busy": "2022-09-13T11:08:01.364981Z",
     "iopub.status.idle": "2022-09-13T11:08:01.372035Z",
     "shell.execute_reply": "2022-09-13T11:08:01.370959Z"
    },
    "papermill": {
     "duration": 0.028737,
     "end_time": "2022-09-13T11:08:01.374492",
     "exception": false,
     "start_time": "2022-09-13T11:08:01.345755",
     "status": "completed"
    },
    "tags": []
   },
   "outputs": [
    {
     "data": {
      "text/plain": [
       "array([11, 13])"
      ]
     },
     "execution_count": 31,
     "metadata": {},
     "output_type": "execute_result"
    }
   ],
   "source": [
    "# Devuelve el valor maximo en una fila\n",
    "matriz.max(1)"
   ]
  },
  {
   "cell_type": "code",
   "execution_count": 32,
   "id": "024515da",
   "metadata": {
    "execution": {
     "iopub.execute_input": "2022-09-13T11:08:01.413403Z",
     "iopub.status.busy": "2022-09-13T11:08:01.412437Z",
     "iopub.status.idle": "2022-09-13T11:08:01.419827Z",
     "shell.execute_reply": "2022-09-13T11:08:01.418639Z"
    },
    "papermill": {
     "duration": 0.029581,
     "end_time": "2022-09-13T11:08:01.422164",
     "exception": false,
     "start_time": "2022-09-13T11:08:01.392583",
     "status": "completed"
    },
    "tags": []
   },
   "outputs": [
    {
     "data": {
      "text/plain": [
       "7"
      ]
     },
     "execution_count": 32,
     "metadata": {},
     "output_type": "execute_result"
    }
   ],
   "source": [
    "# Devuelve el indice del el valor maximo que se encuentra ubicado en el vector del array \n",
    "arr.argmax()"
   ]
  },
  {
   "cell_type": "code",
   "execution_count": 33,
   "id": "e1f6ea01",
   "metadata": {
    "execution": {
     "iopub.execute_input": "2022-09-13T11:08:01.461838Z",
     "iopub.status.busy": "2022-09-13T11:08:01.461021Z",
     "iopub.status.idle": "2022-09-13T11:08:01.467903Z",
     "shell.execute_reply": "2022-09-13T11:08:01.466871Z"
    },
    "papermill": {
     "duration": 0.029364,
     "end_time": "2022-09-13T11:08:01.470138",
     "exception": false,
     "start_time": "2022-09-13T11:08:01.440774",
     "status": "completed"
    },
    "tags": []
   },
   "outputs": [
    {
     "data": {
      "text/plain": [
       "1"
      ]
     },
     "execution_count": 33,
     "metadata": {},
     "output_type": "execute_result"
    }
   ],
   "source": [
    "# Devuelve el valor minimo\n",
    "arr.min()"
   ]
  },
  {
   "cell_type": "code",
   "execution_count": 34,
   "id": "d2f1425d",
   "metadata": {
    "execution": {
     "iopub.execute_input": "2022-09-13T11:08:01.510047Z",
     "iopub.status.busy": "2022-09-13T11:08:01.509259Z",
     "iopub.status.idle": "2022-09-13T11:08:01.516341Z",
     "shell.execute_reply": "2022-09-13T11:08:01.515277Z"
    },
    "papermill": {
     "duration": 0.029746,
     "end_time": "2022-09-13T11:08:01.518600",
     "exception": false,
     "start_time": "2022-09-13T11:08:01.488854",
     "status": "completed"
    },
    "tags": []
   },
   "outputs": [
    {
     "data": {
      "text/plain": [
       "12"
      ]
     },
     "execution_count": 34,
     "metadata": {},
     "output_type": "execute_result"
    }
   ],
   "source": [
    "# Pic to Pic, devuelve el valor entre los picos minimo y maximo del array \n",
    "arr.ptp()"
   ]
  },
  {
   "cell_type": "code",
   "execution_count": 35,
   "id": "58966545",
   "metadata": {
    "execution": {
     "iopub.execute_input": "2022-09-13T11:08:01.557139Z",
     "iopub.status.busy": "2022-09-13T11:08:01.556309Z",
     "iopub.status.idle": "2022-09-13T11:08:01.565648Z",
     "shell.execute_reply": "2022-09-13T11:08:01.564573Z"
    },
    "papermill": {
     "duration": 0.031617,
     "end_time": "2022-09-13T11:08:01.568199",
     "exception": false,
     "start_time": "2022-09-13T11:08:01.536582",
     "status": "completed"
    },
    "tags": []
   },
   "outputs": [
    {
     "data": {
      "text/plain": [
       "8.0"
      ]
     },
     "execution_count": 35,
     "metadata": {},
     "output_type": "execute_result"
    }
   ],
   "source": [
    "# Retorna el valor que representa la mitad de los datos \n",
    "np.percentile(arr,50)"
   ]
  },
  {
   "cell_type": "code",
   "execution_count": 36,
   "id": "2b336139",
   "metadata": {
    "execution": {
     "iopub.execute_input": "2022-09-13T11:08:01.606538Z",
     "iopub.status.busy": "2022-09-13T11:08:01.606062Z",
     "iopub.status.idle": "2022-09-13T11:08:01.612683Z",
     "shell.execute_reply": "2022-09-13T11:08:01.611689Z"
    },
    "papermill": {
     "duration": 0.028664,
     "end_time": "2022-09-13T11:08:01.615036",
     "exception": false,
     "start_time": "2022-09-13T11:08:01.586372",
     "status": "completed"
    },
    "tags": []
   },
   "outputs": [
    {
     "data": {
      "text/plain": [
       "array([ 1,  2,  4,  7,  8,  8, 10, 11, 11, 13])"
      ]
     },
     "execution_count": 36,
     "metadata": {},
     "output_type": "execute_result"
    }
   ],
   "source": [
    "# Sort ordena el vector de menor a mayor\n",
    "arr.sort()\n",
    "arr"
   ]
  },
  {
   "cell_type": "code",
   "execution_count": 37,
   "id": "048186c4",
   "metadata": {
    "execution": {
     "iopub.execute_input": "2022-09-13T11:08:01.653698Z",
     "iopub.status.busy": "2022-09-13T11:08:01.652992Z",
     "iopub.status.idle": "2022-09-13T11:08:01.659587Z",
     "shell.execute_reply": "2022-09-13T11:08:01.658645Z"
    },
    "papermill": {
     "duration": 0.028347,
     "end_time": "2022-09-13T11:08:01.661658",
     "exception": false,
     "start_time": "2022-09-13T11:08:01.633311",
     "status": "completed"
    },
    "tags": []
   },
   "outputs": [
    {
     "data": {
      "text/plain": [
       "8.0"
      ]
     },
     "execution_count": 37,
     "metadata": {},
     "output_type": "execute_result"
    }
   ],
   "source": [
    "# Calcula la mediana de un numero especifico de datos \n",
    "np.median(arr)"
   ]
  },
  {
   "cell_type": "code",
   "execution_count": 38,
   "id": "43b629fb",
   "metadata": {
    "execution": {
     "iopub.execute_input": "2022-09-13T11:08:01.700001Z",
     "iopub.status.busy": "2022-09-13T11:08:01.699364Z",
     "iopub.status.idle": "2022-09-13T11:08:01.706176Z",
     "shell.execute_reply": "2022-09-13T11:08:01.705153Z"
    },
    "papermill": {
     "duration": 0.02848,
     "end_time": "2022-09-13T11:08:01.708289",
     "exception": false,
     "start_time": "2022-09-13T11:08:01.679809",
     "status": "completed"
    },
    "tags": []
   },
   "outputs": [
    {
     "data": {
      "text/plain": [
       "3.8275318418009276"
      ]
     },
     "execution_count": 38,
     "metadata": {},
     "output_type": "execute_result"
    }
   ],
   "source": [
    "# Calcula la desviacion estandar de un numero especifico de datos\n",
    "np.std(arr)"
   ]
  },
  {
   "cell_type": "code",
   "execution_count": 39,
   "id": "340afda7",
   "metadata": {
    "execution": {
     "iopub.execute_input": "2022-09-13T11:08:01.746864Z",
     "iopub.status.busy": "2022-09-13T11:08:01.746199Z",
     "iopub.status.idle": "2022-09-13T11:08:01.753311Z",
     "shell.execute_reply": "2022-09-13T11:08:01.752162Z"
    },
    "papermill": {
     "duration": 0.029052,
     "end_time": "2022-09-13T11:08:01.755528",
     "exception": false,
     "start_time": "2022-09-13T11:08:01.726476",
     "status": "completed"
    },
    "tags": []
   },
   "outputs": [
    {
     "data": {
      "text/plain": [
       "14.65"
      ]
     },
     "execution_count": 39,
     "metadata": {},
     "output_type": "execute_result"
    }
   ],
   "source": [
    "# Calcula la varianza de un numero especifico de datos\n",
    "np.var(arr)"
   ]
  },
  {
   "cell_type": "code",
   "execution_count": 40,
   "id": "4f9f6f9e",
   "metadata": {
    "execution": {
     "iopub.execute_input": "2022-09-13T11:08:01.795260Z",
     "iopub.status.busy": "2022-09-13T11:08:01.794781Z",
     "iopub.status.idle": "2022-09-13T11:08:01.801750Z",
     "shell.execute_reply": "2022-09-13T11:08:01.800688Z"
    },
    "papermill": {
     "duration": 0.029333,
     "end_time": "2022-09-13T11:08:01.803935",
     "exception": false,
     "start_time": "2022-09-13T11:08:01.774602",
     "status": "completed"
    },
    "tags": []
   },
   "outputs": [
    {
     "data": {
      "text/plain": [
       "7.5"
      ]
     },
     "execution_count": 40,
     "metadata": {},
     "output_type": "execute_result"
    }
   ],
   "source": [
    "# Calcula el promedio de un numero especifico de datos \n",
    "np.mean(arr)"
   ]
  },
  {
   "cell_type": "code",
   "execution_count": 41,
   "id": "19f4df80",
   "metadata": {
    "execution": {
     "iopub.execute_input": "2022-09-13T11:08:01.844318Z",
     "iopub.status.busy": "2022-09-13T11:08:01.843144Z",
     "iopub.status.idle": "2022-09-13T11:08:01.849641Z",
     "shell.execute_reply": "2022-09-13T11:08:01.848699Z"
    },
    "papermill": {
     "duration": 0.029298,
     "end_time": "2022-09-13T11:08:01.851912",
     "exception": false,
     "start_time": "2022-09-13T11:08:01.822614",
     "status": "completed"
    },
    "tags": []
   },
   "outputs": [],
   "source": [
    "a = np.array([[1,2],[3,4]])\n",
    "b = np.array([5,6])"
   ]
  },
  {
   "cell_type": "code",
   "execution_count": 42,
   "id": "30387976",
   "metadata": {
    "execution": {
     "iopub.execute_input": "2022-09-13T11:08:01.893141Z",
     "iopub.status.busy": "2022-09-13T11:08:01.892138Z",
     "iopub.status.idle": "2022-09-13T11:08:01.899162Z",
     "shell.execute_reply": "2022-09-13T11:08:01.898043Z"
    },
    "papermill": {
     "duration": 0.029979,
     "end_time": "2022-09-13T11:08:01.901508",
     "exception": false,
     "start_time": "2022-09-13T11:08:01.871529",
     "status": "completed"
    },
    "tags": []
   },
   "outputs": [
    {
     "data": {
      "text/plain": [
       "2"
      ]
     },
     "execution_count": 42,
     "metadata": {},
     "output_type": "execute_result"
    }
   ],
   "source": [
    "a.ndim"
   ]
  },
  {
   "cell_type": "code",
   "execution_count": 43,
   "id": "a984e3a8",
   "metadata": {
    "execution": {
     "iopub.execute_input": "2022-09-13T11:08:01.942865Z",
     "iopub.status.busy": "2022-09-13T11:08:01.941850Z",
     "iopub.status.idle": "2022-09-13T11:08:01.948261Z",
     "shell.execute_reply": "2022-09-13T11:08:01.947437Z"
    },
    "papermill": {
     "duration": 0.029855,
     "end_time": "2022-09-13T11:08:01.950475",
     "exception": false,
     "start_time": "2022-09-13T11:08:01.920620",
     "status": "completed"
    },
    "tags": []
   },
   "outputs": [
    {
     "data": {
      "text/plain": [
       "1"
      ]
     },
     "execution_count": 43,
     "metadata": {},
     "output_type": "execute_result"
    }
   ],
   "source": [
    "b.ndim"
   ]
  },
  {
   "cell_type": "code",
   "execution_count": 44,
   "id": "837ad525",
   "metadata": {
    "execution": {
     "iopub.execute_input": "2022-09-13T11:08:01.991050Z",
     "iopub.status.busy": "2022-09-13T11:08:01.990003Z",
     "iopub.status.idle": "2022-09-13T11:08:01.997079Z",
     "shell.execute_reply": "2022-09-13T11:08:01.996207Z"
    },
    "papermill": {
     "duration": 0.029387,
     "end_time": "2022-09-13T11:08:01.999077",
     "exception": false,
     "start_time": "2022-09-13T11:08:01.969690",
     "status": "completed"
    },
    "tags": []
   },
   "outputs": [
    {
     "data": {
      "text/plain": [
       "array([[1, 2],\n",
       "       [3, 4],\n",
       "       [5, 6]])"
      ]
     },
     "execution_count": 44,
     "metadata": {},
     "output_type": "execute_result"
    }
   ],
   "source": [
    "b=np.expand_dims(b,axis=0)\n",
    "np.concatenate((a,b),axis=0)"
   ]
  },
  {
   "cell_type": "code",
   "execution_count": null,
   "id": "d22ffc57",
   "metadata": {
    "papermill": {
     "duration": 0.019049,
     "end_time": "2022-09-13T11:08:02.038600",
     "exception": false,
     "start_time": "2022-09-13T11:08:02.019551",
     "status": "completed"
    },
    "tags": []
   },
   "outputs": [],
   "source": []
  },
  {
   "cell_type": "markdown",
   "id": "501d7427",
   "metadata": {
    "papermill": {
     "duration": 0.018997,
     "end_time": "2022-09-13T11:08:02.076928",
     "exception": false,
     "start_time": "2022-09-13T11:08:02.057931",
     "status": "completed"
    },
    "tags": []
   },
   "source": [
    "###  Condiciones"
   ]
  },
  {
   "cell_type": "code",
   "execution_count": 45,
   "id": "36240c59",
   "metadata": {
    "execution": {
     "iopub.execute_input": "2022-09-13T11:08:02.117925Z",
     "iopub.status.busy": "2022-09-13T11:08:02.117264Z",
     "iopub.status.idle": "2022-09-13T11:08:02.123870Z",
     "shell.execute_reply": "2022-09-13T11:08:02.123143Z"
    },
    "papermill": {
     "duration": 0.029809,
     "end_time": "2022-09-13T11:08:02.125944",
     "exception": false,
     "start_time": "2022-09-13T11:08:02.096135",
     "status": "completed"
    },
    "tags": []
   },
   "outputs": [
    {
     "data": {
      "text/plain": [
       "array([ 1,  2,  3,  4,  5,  6,  7,  8,  9, 10], dtype=int8)"
      ]
     },
     "execution_count": 45,
     "metadata": {},
     "output_type": "execute_result"
    }
   ],
   "source": [
    "arr = np.linspace(1,10,10, dtype=\"int8\")\n",
    "arr"
   ]
  },
  {
   "cell_type": "code",
   "execution_count": 46,
   "id": "7c0df85d",
   "metadata": {
    "execution": {
     "iopub.execute_input": "2022-09-13T11:08:02.166561Z",
     "iopub.status.busy": "2022-09-13T11:08:02.165859Z",
     "iopub.status.idle": "2022-09-13T11:08:02.170492Z",
     "shell.execute_reply": "2022-09-13T11:08:02.169604Z"
    },
    "papermill": {
     "duration": 0.02753,
     "end_time": "2022-09-13T11:08:02.172828",
     "exception": false,
     "start_time": "2022-09-13T11:08:02.145298",
     "status": "completed"
    },
    "tags": []
   },
   "outputs": [],
   "source": [
    "indices_cond = arr > 5\n"
   ]
  },
  {
   "cell_type": "code",
   "execution_count": 47,
   "id": "de9edbcf",
   "metadata": {
    "execution": {
     "iopub.execute_input": "2022-09-13T11:08:02.213867Z",
     "iopub.status.busy": "2022-09-13T11:08:02.212890Z",
     "iopub.status.idle": "2022-09-13T11:08:02.219855Z",
     "shell.execute_reply": "2022-09-13T11:08:02.218646Z"
    },
    "papermill": {
     "duration": 0.030188,
     "end_time": "2022-09-13T11:08:02.222398",
     "exception": false,
     "start_time": "2022-09-13T11:08:02.192210",
     "status": "completed"
    },
    "tags": []
   },
   "outputs": [
    {
     "data": {
      "text/plain": [
       "array([False, False, False, False, False,  True,  True,  True,  True,\n",
       "        True])"
      ]
     },
     "execution_count": 47,
     "metadata": {},
     "output_type": "execute_result"
    }
   ],
   "source": [
    "indices_cond "
   ]
  },
  {
   "cell_type": "code",
   "execution_count": 48,
   "id": "33f9bbfe",
   "metadata": {
    "execution": {
     "iopub.execute_input": "2022-09-13T11:08:02.263883Z",
     "iopub.status.busy": "2022-09-13T11:08:02.262685Z",
     "iopub.status.idle": "2022-09-13T11:08:02.269703Z",
     "shell.execute_reply": "2022-09-13T11:08:02.268569Z"
    },
    "papermill": {
     "duration": 0.02994,
     "end_time": "2022-09-13T11:08:02.272065",
     "exception": false,
     "start_time": "2022-09-13T11:08:02.242125",
     "status": "completed"
    },
    "tags": []
   },
   "outputs": [
    {
     "data": {
      "text/plain": [
       "array([ 6,  7,  8,  9, 10], dtype=int8)"
      ]
     },
     "execution_count": 48,
     "metadata": {},
     "output_type": "execute_result"
    }
   ],
   "source": [
    "arr[indices_cond]"
   ]
  },
  {
   "cell_type": "markdown",
   "id": "d5933aeb",
   "metadata": {
    "papermill": {
     "duration": 0.019164,
     "end_time": "2022-09-13T11:08:02.310819",
     "exception": false,
     "start_time": "2022-09-13T11:08:02.291655",
     "status": "completed"
    },
    "tags": []
   },
   "source": [
    "### Operaciones "
   ]
  },
  {
   "cell_type": "code",
   "execution_count": 49,
   "id": "c5353f47",
   "metadata": {
    "execution": {
     "iopub.execute_input": "2022-09-13T11:08:02.351750Z",
     "iopub.status.busy": "2022-09-13T11:08:02.351304Z",
     "iopub.status.idle": "2022-09-13T11:08:02.357470Z",
     "shell.execute_reply": "2022-09-13T11:08:02.356640Z"
    },
    "papermill": {
     "duration": 0.029378,
     "end_time": "2022-09-13T11:08:02.359892",
     "exception": false,
     "start_time": "2022-09-13T11:08:02.330514",
     "status": "completed"
    },
    "tags": []
   },
   "outputs": [
    {
     "data": {
      "text/plain": [
       "[1, 2]"
      ]
     },
     "execution_count": 49,
     "metadata": {},
     "output_type": "execute_result"
    }
   ],
   "source": [
    "lista = [1,2]\n",
    "lista"
   ]
  },
  {
   "cell_type": "markdown",
   "id": "a6fb2213",
   "metadata": {
    "papermill": {
     "duration": 0.019397,
     "end_time": "2022-09-13T11:08:02.398916",
     "exception": false,
     "start_time": "2022-09-13T11:08:02.379519",
     "status": "completed"
    },
    "tags": []
   },
   "source": [
    "## **Pandas**"
   ]
  },
  {
   "cell_type": "markdown",
   "id": "b7cea4b4",
   "metadata": {
    "papermill": {
     "duration": 0.020226,
     "end_time": "2022-09-13T11:08:02.438906",
     "exception": false,
     "start_time": "2022-09-13T11:08:02.418680",
     "status": "completed"
    },
    "tags": []
   },
   "source": [
    "* Pandas series \n",
    "* Pandas Dataframe\n",
    "    * Estructura principal \n",
    "    * Arreglo de dos dimenciones \n",
    "    * Busqueda por indice (Columnas o Filas ) \n",
    "    * Slicing \n",
    "    * Operaciones aritmaticas \n",
    "    * Distintos tipos de datos\n",
    "    \n"
   ]
  },
  {
   "cell_type": "code",
   "execution_count": 50,
   "id": "d95e2dd8",
   "metadata": {
    "execution": {
     "iopub.execute_input": "2022-09-13T11:08:02.480351Z",
     "iopub.status.busy": "2022-09-13T11:08:02.479853Z",
     "iopub.status.idle": "2022-09-13T11:08:02.492750Z",
     "shell.execute_reply": "2022-09-13T11:08:02.491775Z"
    },
    "papermill": {
     "duration": 0.03656,
     "end_time": "2022-09-13T11:08:02.495225",
     "exception": false,
     "start_time": "2022-09-13T11:08:02.458665",
     "status": "completed"
    },
    "tags": []
   },
   "outputs": [
    {
     "data": {
      "text/plain": [
       "1      Navas\n",
       "7     Mbappe\n",
       "10    Neymar\n",
       "30     Messi\n",
       "dtype: object"
      ]
     },
     "execution_count": 50,
     "metadata": {},
     "output_type": "execute_result"
    }
   ],
   "source": [
    "import pandas as pd \n",
    "psg_players = pd.Series([\"Navas\",\"Mbappe\", \"Neymar\", \"Messi\"],\n",
    "         index=[1,7,10,30]\n",
    "         )\n",
    "psg_players"
   ]
  },
  {
   "cell_type": "code",
   "execution_count": 51,
   "id": "d6fa8361",
   "metadata": {
    "execution": {
     "iopub.execute_input": "2022-09-13T11:08:02.537718Z",
     "iopub.status.busy": "2022-09-13T11:08:02.536960Z",
     "iopub.status.idle": "2022-09-13T11:08:02.546054Z",
     "shell.execute_reply": "2022-09-13T11:08:02.544954Z"
    },
    "papermill": {
     "duration": 0.032255,
     "end_time": "2022-09-13T11:08:02.548177",
     "exception": false,
     "start_time": "2022-09-13T11:08:02.515922",
     "status": "completed"
    },
    "tags": []
   },
   "outputs": [
    {
     "data": {
      "text/plain": [
       "1      Navas\n",
       "7     Mbappe\n",
       "10    Neymar\n",
       "30     Messi\n",
       "dtype: object"
      ]
     },
     "execution_count": 51,
     "metadata": {},
     "output_type": "execute_result"
    }
   ],
   "source": [
    "dict = {1:\"Navas\", 7:\"Mbappe\", 10:\"Neymar\", 30:\"Messi\"}\n",
    "pd.Series(dict)"
   ]
  },
  {
   "cell_type": "markdown",
   "id": "7f2ad796",
   "metadata": {
    "papermill": {
     "duration": 0.019199,
     "end_time": "2022-09-13T11:08:02.587124",
     "exception": false,
     "start_time": "2022-09-13T11:08:02.567925",
     "status": "completed"
    },
    "tags": []
   },
   "source": [
    "### Como lee archivos CSV y JSON con Pandas"
   ]
  },
  {
   "cell_type": "code",
   "execution_count": 52,
   "id": "1850ecae",
   "metadata": {
    "execution": {
     "iopub.execute_input": "2022-09-13T11:08:02.628938Z",
     "iopub.status.busy": "2022-09-13T11:08:02.628229Z",
     "iopub.status.idle": "2022-09-13T11:08:02.761552Z",
     "shell.execute_reply": "2022-09-13T11:08:02.760671Z"
    },
    "papermill": {
     "duration": 0.156765,
     "end_time": "2022-09-13T11:08:02.763843",
     "exception": false,
     "start_time": "2022-09-13T11:08:02.607078",
     "status": "completed"
    },
    "tags": []
   },
   "outputs": [
    {
     "data": {
      "text/html": [
       "<div>\n",
       "<style scoped>\n",
       "    .dataframe tbody tr th:only-of-type {\n",
       "        vertical-align: middle;\n",
       "    }\n",
       "\n",
       "    .dataframe tbody tr th {\n",
       "        vertical-align: top;\n",
       "    }\n",
       "\n",
       "    .dataframe thead th {\n",
       "        text-align: right;\n",
       "    }\n",
       "</style>\n",
       "<table border=\"1\" class=\"dataframe\">\n",
       "  <thead>\n",
       "    <tr style=\"text-align: right;\">\n",
       "      <th></th>\n",
       "      <th>Unnamed: 0</th>\n",
       "      <th>Posición</th>\n",
       "      <th>Edad</th>\n",
       "      <th>Goles por Minuto</th>\n",
       "      <th>Asistencias por Minuto</th>\n",
       "      <th>Goles (sin Penaltis) por Minuto</th>\n",
       "      <th>Penaltis Marcados por Minuto</th>\n",
       "      <th>Penaltis Lanzados por Minuto</th>\n",
       "      <th>Tarjetas Amarillas por Minuto</th>\n",
       "      <th>Tarjetas Rojas por Minuto</th>\n",
       "      <th>...</th>\n",
       "      <th>Pases Completados por Minuto</th>\n",
       "      <th>Pases Intentados por Minuto</th>\n",
       "      <th>Pases Completados (%)</th>\n",
       "      <th>Distancia Total de Pases (en yardas) por Minuto</th>\n",
       "      <th>Distancia Progresiva Total de Pases (en yardas) por Minuto</th>\n",
       "      <th>Entradas Defensivas por Minuto</th>\n",
       "      <th>Entradas Defensivas Exitosas por Minuto</th>\n",
       "      <th>Puntos por Partido</th>\n",
       "      <th>Titular</th>\n",
       "      <th>Minutos Jugados (%)</th>\n",
       "    </tr>\n",
       "  </thead>\n",
       "  <tbody>\n",
       "    <tr>\n",
       "      <th>0</th>\n",
       "      <td>0</td>\n",
       "      <td>Defensa</td>\n",
       "      <td>27.0</td>\n",
       "      <td>0.000326</td>\n",
       "      <td>0.000978</td>\n",
       "      <td>0.000326</td>\n",
       "      <td>0.000000</td>\n",
       "      <td>0.000000</td>\n",
       "      <td>0.002281</td>\n",
       "      <td>0.0</td>\n",
       "      <td>...</td>\n",
       "      <td>0.398827</td>\n",
       "      <td>0.556533</td>\n",
       "      <td>71.7</td>\n",
       "      <td>7.663408</td>\n",
       "      <td>3.327468</td>\n",
       "      <td>0.012382</td>\n",
       "      <td>0.005865</td>\n",
       "      <td>1.14</td>\n",
       "      <td>1</td>\n",
       "      <td>94.722222</td>\n",
       "    </tr>\n",
       "    <tr>\n",
       "      <th>1</th>\n",
       "      <td>1</td>\n",
       "      <td>Centrocampista</td>\n",
       "      <td>30.0</td>\n",
       "      <td>0.001442</td>\n",
       "      <td>0.000961</td>\n",
       "      <td>0.000961</td>\n",
       "      <td>0.000481</td>\n",
       "      <td>0.000481</td>\n",
       "      <td>0.000481</td>\n",
       "      <td>0.0</td>\n",
       "      <td>...</td>\n",
       "      <td>0.424315</td>\n",
       "      <td>0.590581</td>\n",
       "      <td>71.8</td>\n",
       "      <td>8.115810</td>\n",
       "      <td>2.554061</td>\n",
       "      <td>0.014416</td>\n",
       "      <td>0.010572</td>\n",
       "      <td>1.07</td>\n",
       "      <td>1</td>\n",
       "      <td>82.579365</td>\n",
       "    </tr>\n",
       "    <tr>\n",
       "      <th>2</th>\n",
       "      <td>2</td>\n",
       "      <td>Centrocampista</td>\n",
       "      <td>30.0</td>\n",
       "      <td>0.000000</td>\n",
       "      <td>0.001789</td>\n",
       "      <td>0.000000</td>\n",
       "      <td>0.000000</td>\n",
       "      <td>0.000000</td>\n",
       "      <td>0.001789</td>\n",
       "      <td>0.0</td>\n",
       "      <td>...</td>\n",
       "      <td>0.182469</td>\n",
       "      <td>0.262970</td>\n",
       "      <td>69.4</td>\n",
       "      <td>2.882826</td>\n",
       "      <td>0.793381</td>\n",
       "      <td>0.016100</td>\n",
       "      <td>0.008945</td>\n",
       "      <td>1.43</td>\n",
       "      <td>1</td>\n",
       "      <td>88.730159</td>\n",
       "    </tr>\n",
       "    <tr>\n",
       "      <th>3</th>\n",
       "      <td>3</td>\n",
       "      <td>Delantero</td>\n",
       "      <td>30.0</td>\n",
       "      <td>0.000000</td>\n",
       "      <td>0.000000</td>\n",
       "      <td>0.000000</td>\n",
       "      <td>0.000000</td>\n",
       "      <td>0.000000</td>\n",
       "      <td>0.000000</td>\n",
       "      <td>0.0</td>\n",
       "      <td>...</td>\n",
       "      <td>0.191677</td>\n",
       "      <td>0.269861</td>\n",
       "      <td>71.0</td>\n",
       "      <td>2.882724</td>\n",
       "      <td>0.847415</td>\n",
       "      <td>0.022699</td>\n",
       "      <td>0.012610</td>\n",
       "      <td>1.27</td>\n",
       "      <td>0</td>\n",
       "      <td>58.740741</td>\n",
       "    </tr>\n",
       "    <tr>\n",
       "      <th>4</th>\n",
       "      <td>4</td>\n",
       "      <td>Centrocampista</td>\n",
       "      <td>26.0</td>\n",
       "      <td>0.001304</td>\n",
       "      <td>0.000978</td>\n",
       "      <td>0.000978</td>\n",
       "      <td>0.000326</td>\n",
       "      <td>0.000326</td>\n",
       "      <td>0.001304</td>\n",
       "      <td>0.0</td>\n",
       "      <td>...</td>\n",
       "      <td>0.508966</td>\n",
       "      <td>0.673948</td>\n",
       "      <td>75.5</td>\n",
       "      <td>9.100424</td>\n",
       "      <td>2.582654</td>\n",
       "      <td>0.034235</td>\n",
       "      <td>0.017933</td>\n",
       "      <td>0.94</td>\n",
       "      <td>1</td>\n",
       "      <td>94.660494</td>\n",
       "    </tr>\n",
       "    <tr>\n",
       "      <th>...</th>\n",
       "      <td>...</td>\n",
       "      <td>...</td>\n",
       "      <td>...</td>\n",
       "      <td>...</td>\n",
       "      <td>...</td>\n",
       "      <td>...</td>\n",
       "      <td>...</td>\n",
       "      <td>...</td>\n",
       "      <td>...</td>\n",
       "      <td>...</td>\n",
       "      <td>...</td>\n",
       "      <td>...</td>\n",
       "      <td>...</td>\n",
       "      <td>...</td>\n",
       "      <td>...</td>\n",
       "      <td>...</td>\n",
       "      <td>...</td>\n",
       "      <td>...</td>\n",
       "      <td>...</td>\n",
       "      <td>...</td>\n",
       "      <td>...</td>\n",
       "    </tr>\n",
       "    <tr>\n",
       "      <th>8203</th>\n",
       "      <td>8203</td>\n",
       "      <td>Delantero</td>\n",
       "      <td>31.0</td>\n",
       "      <td>0.000000</td>\n",
       "      <td>0.000000</td>\n",
       "      <td>0.000000</td>\n",
       "      <td>0.000000</td>\n",
       "      <td>0.000000</td>\n",
       "      <td>0.000000</td>\n",
       "      <td>0.0</td>\n",
       "      <td>...</td>\n",
       "      <td>0.119205</td>\n",
       "      <td>0.185430</td>\n",
       "      <td>64.3</td>\n",
       "      <td>2.105960</td>\n",
       "      <td>0.576159</td>\n",
       "      <td>0.019868</td>\n",
       "      <td>0.013245</td>\n",
       "      <td>0.00</td>\n",
       "      <td>0</td>\n",
       "      <td>55.925926</td>\n",
       "    </tr>\n",
       "    <tr>\n",
       "      <th>8204</th>\n",
       "      <td>8204</td>\n",
       "      <td>Delantero</td>\n",
       "      <td>29.0</td>\n",
       "      <td>0.024793</td>\n",
       "      <td>0.000000</td>\n",
       "      <td>0.024793</td>\n",
       "      <td>0.000000</td>\n",
       "      <td>0.000000</td>\n",
       "      <td>0.000000</td>\n",
       "      <td>0.0</td>\n",
       "      <td>...</td>\n",
       "      <td>0.429752</td>\n",
       "      <td>0.528926</td>\n",
       "      <td>81.3</td>\n",
       "      <td>7.644628</td>\n",
       "      <td>1.991736</td>\n",
       "      <td>0.033058</td>\n",
       "      <td>0.016529</td>\n",
       "      <td>2.33</td>\n",
       "      <td>0</td>\n",
       "      <td>44.814815</td>\n",
       "    </tr>\n",
       "    <tr>\n",
       "      <th>8205</th>\n",
       "      <td>8205</td>\n",
       "      <td>Centrocampista</td>\n",
       "      <td>33.0</td>\n",
       "      <td>0.000000</td>\n",
       "      <td>0.000000</td>\n",
       "      <td>0.000000</td>\n",
       "      <td>0.000000</td>\n",
       "      <td>0.000000</td>\n",
       "      <td>0.008097</td>\n",
       "      <td>0.0</td>\n",
       "      <td>...</td>\n",
       "      <td>0.570850</td>\n",
       "      <td>0.631579</td>\n",
       "      <td>90.4</td>\n",
       "      <td>10.117409</td>\n",
       "      <td>2.489879</td>\n",
       "      <td>0.032389</td>\n",
       "      <td>0.028340</td>\n",
       "      <td>1.00</td>\n",
       "      <td>1</td>\n",
       "      <td>91.481481</td>\n",
       "    </tr>\n",
       "    <tr>\n",
       "      <th>8206</th>\n",
       "      <td>8206</td>\n",
       "      <td>Defensa</td>\n",
       "      <td>32.0</td>\n",
       "      <td>0.000000</td>\n",
       "      <td>0.000000</td>\n",
       "      <td>0.000000</td>\n",
       "      <td>0.000000</td>\n",
       "      <td>0.000000</td>\n",
       "      <td>0.019231</td>\n",
       "      <td>0.0</td>\n",
       "      <td>...</td>\n",
       "      <td>0.403846</td>\n",
       "      <td>0.615385</td>\n",
       "      <td>65.6</td>\n",
       "      <td>6.519231</td>\n",
       "      <td>2.673077</td>\n",
       "      <td>0.000000</td>\n",
       "      <td>0.000000</td>\n",
       "      <td>1.00</td>\n",
       "      <td>1</td>\n",
       "      <td>57.777778</td>\n",
       "    </tr>\n",
       "    <tr>\n",
       "      <th>8207</th>\n",
       "      <td>8207</td>\n",
       "      <td>Centrocampista</td>\n",
       "      <td>30.0</td>\n",
       "      <td>0.004032</td>\n",
       "      <td>0.000000</td>\n",
       "      <td>0.004032</td>\n",
       "      <td>0.000000</td>\n",
       "      <td>0.000000</td>\n",
       "      <td>0.004032</td>\n",
       "      <td>0.0</td>\n",
       "      <td>...</td>\n",
       "      <td>0.689516</td>\n",
       "      <td>0.822581</td>\n",
       "      <td>83.8</td>\n",
       "      <td>10.568548</td>\n",
       "      <td>1.891129</td>\n",
       "      <td>0.020161</td>\n",
       "      <td>0.012097</td>\n",
       "      <td>2.00</td>\n",
       "      <td>1</td>\n",
       "      <td>91.851852</td>\n",
       "    </tr>\n",
       "  </tbody>\n",
       "</table>\n",
       "<p>8208 rows × 27 columns</p>\n",
       "</div>"
      ],
      "text/plain": [
       "      Unnamed: 0        Posición  Edad  Goles por Minuto  \\\n",
       "0              0         Defensa  27.0          0.000326   \n",
       "1              1  Centrocampista  30.0          0.001442   \n",
       "2              2  Centrocampista  30.0          0.000000   \n",
       "3              3       Delantero  30.0          0.000000   \n",
       "4              4  Centrocampista  26.0          0.001304   \n",
       "...          ...             ...   ...               ...   \n",
       "8203        8203       Delantero  31.0          0.000000   \n",
       "8204        8204       Delantero  29.0          0.024793   \n",
       "8205        8205  Centrocampista  33.0          0.000000   \n",
       "8206        8206         Defensa  32.0          0.000000   \n",
       "8207        8207  Centrocampista  30.0          0.004032   \n",
       "\n",
       "      Asistencias por Minuto  Goles (sin Penaltis) por Minuto  \\\n",
       "0                   0.000978                         0.000326   \n",
       "1                   0.000961                         0.000961   \n",
       "2                   0.001789                         0.000000   \n",
       "3                   0.000000                         0.000000   \n",
       "4                   0.000978                         0.000978   \n",
       "...                      ...                              ...   \n",
       "8203                0.000000                         0.000000   \n",
       "8204                0.000000                         0.024793   \n",
       "8205                0.000000                         0.000000   \n",
       "8206                0.000000                         0.000000   \n",
       "8207                0.000000                         0.004032   \n",
       "\n",
       "      Penaltis Marcados por Minuto  Penaltis Lanzados por Minuto  \\\n",
       "0                         0.000000                      0.000000   \n",
       "1                         0.000481                      0.000481   \n",
       "2                         0.000000                      0.000000   \n",
       "3                         0.000000                      0.000000   \n",
       "4                         0.000326                      0.000326   \n",
       "...                            ...                           ...   \n",
       "8203                      0.000000                      0.000000   \n",
       "8204                      0.000000                      0.000000   \n",
       "8205                      0.000000                      0.000000   \n",
       "8206                      0.000000                      0.000000   \n",
       "8207                      0.000000                      0.000000   \n",
       "\n",
       "      Tarjetas Amarillas por Minuto  Tarjetas Rojas por Minuto  ...  \\\n",
       "0                          0.002281                        0.0  ...   \n",
       "1                          0.000481                        0.0  ...   \n",
       "2                          0.001789                        0.0  ...   \n",
       "3                          0.000000                        0.0  ...   \n",
       "4                          0.001304                        0.0  ...   \n",
       "...                             ...                        ...  ...   \n",
       "8203                       0.000000                        0.0  ...   \n",
       "8204                       0.000000                        0.0  ...   \n",
       "8205                       0.008097                        0.0  ...   \n",
       "8206                       0.019231                        0.0  ...   \n",
       "8207                       0.004032                        0.0  ...   \n",
       "\n",
       "      Pases Completados por Minuto  Pases Intentados por Minuto  \\\n",
       "0                         0.398827                     0.556533   \n",
       "1                         0.424315                     0.590581   \n",
       "2                         0.182469                     0.262970   \n",
       "3                         0.191677                     0.269861   \n",
       "4                         0.508966                     0.673948   \n",
       "...                            ...                          ...   \n",
       "8203                      0.119205                     0.185430   \n",
       "8204                      0.429752                     0.528926   \n",
       "8205                      0.570850                     0.631579   \n",
       "8206                      0.403846                     0.615385   \n",
       "8207                      0.689516                     0.822581   \n",
       "\n",
       "      Pases Completados (%)  Distancia Total de Pases (en yardas) por Minuto  \\\n",
       "0                      71.7                                         7.663408   \n",
       "1                      71.8                                         8.115810   \n",
       "2                      69.4                                         2.882826   \n",
       "3                      71.0                                         2.882724   \n",
       "4                      75.5                                         9.100424   \n",
       "...                     ...                                              ...   \n",
       "8203                   64.3                                         2.105960   \n",
       "8204                   81.3                                         7.644628   \n",
       "8205                   90.4                                        10.117409   \n",
       "8206                   65.6                                         6.519231   \n",
       "8207                   83.8                                        10.568548   \n",
       "\n",
       "      Distancia Progresiva Total de Pases (en yardas) por Minuto  \\\n",
       "0                                              3.327468            \n",
       "1                                              2.554061            \n",
       "2                                              0.793381            \n",
       "3                                              0.847415            \n",
       "4                                              2.582654            \n",
       "...                                                 ...            \n",
       "8203                                           0.576159            \n",
       "8204                                           1.991736            \n",
       "8205                                           2.489879            \n",
       "8206                                           2.673077            \n",
       "8207                                           1.891129            \n",
       "\n",
       "      Entradas Defensivas por Minuto  Entradas Defensivas Exitosas por Minuto  \\\n",
       "0                           0.012382                                 0.005865   \n",
       "1                           0.014416                                 0.010572   \n",
       "2                           0.016100                                 0.008945   \n",
       "3                           0.022699                                 0.012610   \n",
       "4                           0.034235                                 0.017933   \n",
       "...                              ...                                      ...   \n",
       "8203                        0.019868                                 0.013245   \n",
       "8204                        0.033058                                 0.016529   \n",
       "8205                        0.032389                                 0.028340   \n",
       "8206                        0.000000                                 0.000000   \n",
       "8207                        0.020161                                 0.012097   \n",
       "\n",
       "      Puntos por Partido  Titular  Minutos Jugados (%)  \n",
       "0                   1.14        1            94.722222  \n",
       "1                   1.07        1            82.579365  \n",
       "2                   1.43        1            88.730159  \n",
       "3                   1.27        0            58.740741  \n",
       "4                   0.94        1            94.660494  \n",
       "...                  ...      ...                  ...  \n",
       "8203                0.00        0            55.925926  \n",
       "8204                2.33        0            44.814815  \n",
       "8205                1.00        1            91.481481  \n",
       "8206                1.00        1            57.777778  \n",
       "8207                2.00        1            91.851852  \n",
       "\n",
       "[8208 rows x 27 columns]"
      ]
     },
     "execution_count": 52,
     "metadata": {},
     "output_type": "execute_result"
    }
   ],
   "source": [
    "pd.read_csv(\"../input/player-stats-clasificacion/player_stats_clasificacion.csv\")"
   ]
  },
  {
   "cell_type": "code",
   "execution_count": null,
   "id": "3fe602f0",
   "metadata": {
    "papermill": {
     "duration": 0.020841,
     "end_time": "2022-09-13T11:08:02.805362",
     "exception": false,
     "start_time": "2022-09-13T11:08:02.784521",
     "status": "completed"
    },
    "tags": []
   },
   "outputs": [],
   "source": []
  }
 ],
 "metadata": {
  "kernelspec": {
   "display_name": "Python 3",
   "language": "python",
   "name": "python3"
  },
  "language_info": {
   "codemirror_mode": {
    "name": "ipython",
    "version": 3
   },
   "file_extension": ".py",
   "mimetype": "text/x-python",
   "name": "python",
   "nbconvert_exporter": "python",
   "pygments_lexer": "ipython3",
   "version": "3.7.12"
  },
  "papermill": {
   "default_parameters": {},
   "duration": 15.539884,
   "end_time": "2022-09-13T11:08:03.549449",
   "environment_variables": {},
   "exception": null,
   "input_path": "__notebook__.ipynb",
   "output_path": "__notebook__.ipynb",
   "parameters": {},
   "start_time": "2022-09-13T11:07:48.009565",
   "version": "2.3.4"
  }
 },
 "nbformat": 4,
 "nbformat_minor": 5
}
